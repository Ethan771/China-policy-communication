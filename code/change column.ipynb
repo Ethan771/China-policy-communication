{
  "nbformat": 4,
  "nbformat_minor": 0,
  "metadata": {
    "colab": {
      "provenance": []
    },
    "kernelspec": {
      "name": "python3",
      "display_name": "Python 3"
    },
    "language_info": {
      "name": "python"
    }
  },
  "cells": [
    {
      "cell_type": "code",
      "source": [
        "import os\n",
        "import pandas as pd\n",
        "\n",
        "# 文件夹路径\n",
        "folder_path = '/content/drive/MyDrive/Colab Notebooks/灰色文件3'\n",
        "\n",
        "# 获取文件夹中所有的excel文件名\n",
        "file_names = os.listdir(folder_path)\n",
        "excel_files = [f for f in file_names if f.endswith('.xlsx')]\n",
        "\n",
        "# 读取每个excel文件并将它们合并到一个DataFrame中\n",
        "df_list = []\n",
        "for file in excel_files:\n",
        "    file_path = os.path.join(folder_path, file)\n",
        "    df = pd.read_excel(file_path, header=0)\n",
        "    # 删除奇数列\n",
        "    df = df.drop(df.columns[1::2], axis=1)\n",
        "    df_list.append(df)\n",
        "merged_df = pd.concat(df_list)\n",
        "\n",
        "# 将合并后的DataFrame写入新的excel文件中\n",
        "merged_df.to_excel('merged.xlsx', index=False)"
      ],
      "metadata": {
        "id": "w7i2-_zP-pC_"
      },
      "execution_count": null,
      "outputs": []
    },
    {
      "cell_type": "code",
      "source": [],
      "metadata": {
        "id": "YIg3JyUvMNf1"
      },
      "execution_count": null,
      "outputs": []
    }
  ]
}