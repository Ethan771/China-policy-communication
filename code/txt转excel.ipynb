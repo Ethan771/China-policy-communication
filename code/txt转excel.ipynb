{
  "nbformat": 4,
  "nbformat_minor": 0,
  "metadata": {
    "colab": {
      "provenance": []
    },
    "kernelspec": {
      "name": "python3",
      "display_name": "Python 3"
    },
    "language_info": {
      "name": "python"
    }
  },
  "cells": [
    {
      "cell_type": "code",
      "execution_count": null,
      "metadata": {
        "id": "PayguqrXFAx8"
      },
      "outputs": [],
      "source": [
        "import pandas as pd\n",
        "\n",
        "# Read the txt file as a list of lines\n",
        "with open(\"/content/高级农业生产合作社示范章程.txt\", \"r\") as f:\n",
        "    lines = f.readlines()\n",
        "\n",
        "# Loop through the list of lines\n",
        "for i, line in enumerate(lines):\n",
        "    # Create a file name based on the line number\n",
        "    file_name = f\"line_{i+1}.xlsx\"\n",
        "    # Create a dataframe with the line as the only row\n",
        "    df = pd.DataFrame([line])\n",
        "    # Save the dataframe to an excel file\n",
        "    df.to_excel(file_name, index=False)"
      ]
    },
    {
      "cell_type": "code",
      "source": [
        "import pandas as pd\n",
        "\n",
        "# Read the txt file as a list of lines\n",
        "with open(\"/content/高级农业生产合作社示范章程.txt\", \"r\") as f:\n",
        "    lines = f.readlines()\n",
        "\n",
        "# Create a dataframe with the lines as rows\n",
        "df = pd.DataFrame(lines)\n",
        "\n",
        "# Save the dataframe to an excel file\n",
        "df.to_excel(\"document.xlsx\", index=False)"
      ],
      "metadata": {
        "id": "q1y841YXFfTL"
      },
      "execution_count": null,
      "outputs": []
    },
    {
      "cell_type": "code",
      "source": [],
      "metadata": {
        "id": "OrANiOXrF2Sg"
      },
      "execution_count": null,
      "outputs": []
    }
  ]
}