{
  "nbformat": 4,
  "nbformat_minor": 0,
  "metadata": {
    "colab": {
      "provenance": []
    },
    "kernelspec": {
      "name": "python3",
      "display_name": "Python 3"
    },
    "language_info": {
      "name": "python"
    }
  },
  "cells": [
    {
      "cell_type": "code",
      "execution_count": null,
      "metadata": {
        "colab": {
          "base_uri": "https://localhost:8080/"
        },
        "id": "96F5PkdNuKWF",
        "outputId": "3e5347af-3ce6-4a0e-d744-e96d349d09cf"
      },
      "outputs": [
        {
          "output_type": "stream",
          "name": "stdout",
          "text": [
            "  Category                                          Sentences\n",
            "0    Black                        全国人大常委会关于修改《中外合资经营企业法》的决定\\n\n",
            "1    Black                     　　　　　　　　　　　 （中华人民共和国主席令第27号 \\n\n",
            "2    Black              　　　　　　　1990年4月4日第七届全国人民代表大会第三次会议通过）\\n\n",
            "3    Black  　　《全国人民代表大会关于修改〈中华人民共和国中外合资经营企业法〉的决定》已由中华人民共和国...\n",
            "4    Black            　　　　　　　　　　　　　　　　　　　　　 　　中华人民共和国主席 杨尚昆\\n\n",
            "Accuracy: 0.7007481296758105\n",
            "Confusion matrix:\n",
            " [[266   0   2]\n",
            " [ 19   2   3]\n",
            " [ 95   1  13]]\n",
            "Probabilities for Black, Red and Grey: [[0.98574308 0.0049788  0.00927813]]\n"
          ]
        }
      ],
      "source": [
        "# Import the libraries\n",
        "import pandas as pd\n",
        "import numpy as np\n",
        "from sklearn.model_selection import train_test_split\n",
        "from sklearn.feature_extraction.text import CountVectorizer\n",
        "from sklearn.naive_bayes import MultinomialNB\n",
        "from sklearn.metrics import accuracy_score, confusion_matrix\n",
        "\n",
        "# Read the excel file into a pandas dataframe\n",
        "df = pd.read_excel(\"/content/merged (1).xlsx\")\n",
        "\n",
        "# Reshape the dataframe into a long format using melt\n",
        "df = df.melt(var_name=\"Category\", value_name=\"Sentences\")\n",
        "\n",
        "# Drop any rows with missing values\n",
        "df = df.dropna()\n",
        "\n",
        "# Print the first 5 rows of the dataframe\n",
        "print(df.head())\n",
        "\n",
        "# Split the dataframe into features (X) and labels (y)\n",
        "X = df[\"Sentences\"]\n",
        "y = df[\"Category\"]\n",
        "\n",
        "# Convert the labels into a single column with numerical values\n",
        "# 0 for Black, 1 for Red, 2 for Grey\n",
        "y = y.map({\"Black\": 0, \"Red\": 1, \"Grey\": 2})\n",
        "\n",
        "# Split the data into train and test sets\n",
        "X_train, X_test, y_train, y_test = train_test_split(X, y, test_size=0.5, random_state=200)\n",
        "\n",
        "# Vectorize the sentences using CountVectorizer\n",
        "vectorizer = CountVectorizer()\n",
        "X_train = vectorizer.fit_transform(X_train)\n",
        "X_test = vectorizer.transform(X_test)\n",
        "\n",
        "# Create and fit a Multinomial Naive Bayes classifier\n",
        "clf = MultinomialNB()\n",
        "clf.fit(X_train, y_train)\n",
        "\n",
        "# Predict the labels for the test set\n",
        "y_pred = clf.predict(X_test)\n",
        "\n",
        "# Print the accuracy score and the confusion matrix\n",
        "print(\"Accuracy:\", accuracy_score(y_test, y_pred))\n",
        "print(\"Confusion matrix:\\n\", confusion_matrix(y_test, y_pred))\n",
        "\n",
        "# Predict the probabilities for a new sentence\n",
        "new_sentence = \"第一条　为了促进科技成果转化为现实生产力，规范科技成果转化活动，加速科学技术进步，推动经济建设和社会发展，制定本法。\"\n",
        "new_vector = vectorizer.transform([new_sentence])\n",
        "probs = clf.predict_proba(new_vector)\n",
        "print(\"Probabilities for Black, Red and Grey:\", probs)"
      ]
    },
    {
      "cell_type": "code",
      "source": [],
      "metadata": {
        "id": "tImjyBMHuZGn"
      },
      "execution_count": null,
      "outputs": []
    }
  ]
}