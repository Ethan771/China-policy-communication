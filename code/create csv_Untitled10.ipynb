{
  "nbformat": 4,
  "nbformat_minor": 0,
  "metadata": {
    "colab": {
      "provenance": []
    },
    "kernelspec": {
      "name": "python3",
      "display_name": "Python 3"
    },
    "language_info": {
      "name": "python"
    }
  },
  "cells": [
    {
      "cell_type": "code",
      "execution_count": null,
      "metadata": {
        "id": "YQuE0SAqZw0K"
      },
      "outputs": [],
      "source": [
        "# 导入所需的库\n",
        "import pandas as pd\n",
        "import jieba\n",
        "\n",
        "# 读取excel文件中的中文句子，假设句子在第一列\n",
        "with open(\"/content/Total.txt\", \"r\", encoding=\"utf-8\") as f:\n",
        "    sentences = f.readlines()\n",
        "\n",
        "jieba.add_word(\"有关\", freq=None, tag=None)\n",
        "jieba.add_word(\"结合实际情况\", freq=None, tag=None)\n",
        "jieba.add_word(\"坚定不移\", freq=None, tag=None)\n",
        "jieba.add_word(\"解放思想\", freq=None, tag=None)\n",
        "jieba.add_word(\"特别重视\", freq=None, tag=None)\n",
        "jieba.add_word(\"条件\", freq=None, tag=None)\n",
        "jieba.add_word(\"体制范围内\", freq=None, tag=None)\n",
        "jieba.add_word(\"前提下\", freq=None, tag=None)\n",
        "jieba.add_word(\"承受能力\", freq=None, tag=None)\n",
        "jieba.add_word(\"差别化\", freq=None, tag=None)\n",
        "jieba.add_word(\"分类分区\", freq=None, tag=None)\n",
        "jieba.add_word(\"视情\", freq=None, tag=None)\n",
        "jieba.add_word(\"了解情况\", freq=None, tag=None)\n",
        "jieba.add_word(\"听取意见\", freq=None, tag=None)\n",
        "jieba.add_word(\"多渠道\", freq=None, tag=None)\n",
        "jieba.add_word(\"自负盈亏\", freq=None, tag=None)\n",
        "\n",
        "# 定义黑色、红色和灰色的词语列表\n",
        "black_words = [\"积极\",\"重点\",\"坚决\",\"下决心\",\"坚定不移\",\"力争\",\"大力\",\"下大力气\",\"大幅\",\"显著\",\"优先\",\"高度\",\"十分\",\"特别重视\",\"着力\",\"可以\",\"可\",\"同意\",\"允许\",\"准许\",\"不必\",\"批准\",\"支持\",\"狠抓\",\"推广\",\"放宽\",\"放开\",\"取消\",\"免除\",\"免征\",\"免收\",\"准入\",\"解放思想\"]\n",
        "red_words = [\"不得\",\"不可\",\"不能\",\"不在\",\"不准\",\"无权\",\"不得擅自\",\"不采用\",\"不宜\",\"切不可\",\"不将\",\"绝对不\",\"禁止\",\"严禁\",\"刹车\",\"停止\",\"决不允许\",\"杜绝\",\"遏止\",\"制止\",\"严控\",\"严守\",\"反对\",\"抵制\",\"严格依据\",\"追究\",\"人员的责任\",\"刑事责任\",\"法律责任\",\"查处\",\"处罚\",\"严惩\",\"责令停业\",\"降级\",\"撤职\",\"开除\"]\n",
        "grey_words = [\"相关\",\"等\",\"有些\",\"若干\",\"有关部门\",\"具备条件的\",\"条件\",\"符合规定条件的\",\"符合条件的\",\"有条件的\",\"体制范围内\",\"不是十分\",\"有利于\",\"适宜\",\"前提下\",\"有关\",\"有关部门\",\"有关领导干部\",\"有关方面\",\"尽可能\",\"一般\",\"最大限度\",\"必要时\",\"总体思路\",\"尽量\",\"适当\",\"适时\",\"大体\",\"比较\",\"略\",\"妥善\",\"合理\",\"相对\",\"稍\",\"左右\",\"适度\",\"条件成熟时\",\"一定时期内\",\"逐步\",\"原则\",\"原则上\",\"原则同意\",\"建议\",\"特殊情况\",\"特殊\",\"特许\",\"特定条件\",\"情况特殊的\",\"地方条件\",\"实际\",\"地方实际\",\"实际情况\",\"结合实际\",\"符合实际\",\"因地制宜\",\"国情\",\"不同情况\",\"根据变化\",\"承受能力\",\"差别化\",\"分类分区\",\"视情况\",\"视情\",\"本地实际\",\"分区\",\"分区规划\",\"分区指导\",\"本地区\",\"根据情况\",\"具体情况\",\"以地方政府为主\",\"区别\",\"区分\",\"实施细则\",\"自主\",\"自行\",\"自担\",\"独立承担\",\"自负盈亏\",\"多渠道\",\"根据变化的情况\",\"调整\",\"谅解\",\"调剂\",\"便利\",\"考虑\",\"临时决定\",\"引导\",\"配套\",\"配套政策\",\"配套措施\",\"洽商\",\"协商\",\"协调\",\"衔接\",\"联合\",\"探索\",\"尝试\",\"摸索\",\"试点\",\"实验\",\"试验区\",\"实验区\",\"实验区域\",\"试验区域\",\"试验点\",\"实验点\",\"示范\",\"扩大试点范围\",\"总结试点经验\",\"全面推广\",\"研究\",\"调查研究\",\"反馈\",\"指导\",\"考察\",\"蹲点\",\"了解情况\",\"听取意见\",\"国际交流\"]\n",
        "\n",
        "# 创建三个空列表，用于存储不同颜色的句子\n",
        "black_sentences = []\n",
        "red_sentences = []\n",
        "grey_sentences = []\n",
        "neutral_sentences = []"
      ]
    },
    {
      "cell_type": "code",
      "source": [
        "# 创建三个空列表，用于存储不同颜色的词语\n",
        "\n",
        "# 遍历每个句子，进行分词和分类\n",
        "for sentence in sentences:\n",
        "    # 使用jieba库对句子进行分词，得到一个词语列表\n",
        "    words = list(jieba.cut(sentence))\n",
        "    # 判断句子是否包含灰色的词语，如果是，则将句子添加到灰色列表中\n",
        "    if any(word in grey_words for word in words):\n",
        "        grey_sentences.append(sentence)\n",
        "        # 过滤出句子中的灰色词语，并用逗号连接成一个字符串，添加到灰色词语列表中\n",
        "        \n",
        "    # 否则，判断句子是否包含红色的词语，如果是，则将句子添加到红色列表中\n",
        "    elif any(word in red_words for word in words):\n",
        "        red_sentences.append(sentence)\n",
        "        # 过滤出句子中的红色词语，并用逗号连接成一个字符串，添加到红色词语列表中\n",
        "\n",
        "    # 否则，判断句子是否包含黑色的词语，如果是，则将句子添加到黑色列表中\n",
        "    elif any(word in black_words for word in words):\n",
        "        black_sentences.append(sentence)    \n",
        "    # 否则，将句子添加到中立列表中\n",
        "    else:\n",
        "        neutral_sentences.append(sentence)\n",
        "        # 过滤出句子中的黑色词语，并用逗号连接成一个字符串，添加到黑色词语列表中\n",
        "        # black_words_in_sentence = [word for word in words if word in black_words]\n",
        "        # black_words_in_sentence = \",\".join(black_words_in_sentence)\n",
        "        # black_words_in_sentences.append(black_words_in_sentence)"
      ],
      "metadata": {
        "id": "ZNBEKmTGZzzZ"
      },
      "execution_count": null,
      "outputs": []
    },
    {
      "cell_type": "code",
      "source": [
        "# 将三个列表转换为pandas的Series对象，并对齐长度\n",
        "black_series = pd.Series(black_sentences)\n",
        "red_series = pd.Series(red_sentences)\n",
        "grey_series = pd.Series(grey_sentences)\n",
        "neutral_series = pd.Series(neutral_sentences)\n",
        "# black_words_series = pd.Series(black_words_in_sentences)\n",
        "# red_words_series = pd.Series(red_words_in_sentences)\n",
        "# grey_words_series = pd.Series(grey_words_in_sentences)\n",
        "max_length = max(len(black_series), len(red_series), len(grey_series))\n",
        "black_series = black_series.reindex(range(max_length))\n",
        "red_series = red_series.reindex(range(max_length))\n",
        "grey_series = grey_series.reindex(range(max_length))\n",
        "neutral_series = neutral_series.reindex(range(max_length))\n",
        "# black_words_series = black_words_series.reindex(range(max_length))\n",
        "# red_words_series = red_words_series.reindex(range(max_length))\n",
        "# grey_words_series = grey_words_series.reindex(range(max_length))"
      ],
      "metadata": {
        "id": "lyPPDnF1Z8o7"
      },
      "execution_count": null,
      "outputs": []
    },
    {
      "cell_type": "code",
      "source": [
        "# 将六个Series对象合并为一个DataFrame对象，并命名列名\n",
        "result_df = pd.concat([black_series, red_series, grey_series,neutral_series], axis=1)\n",
        "result_df.columns = [\"Black\", \"Red\",\"Grey\",\"Neutral\"]\n",
        "\n",
        "# 将结果写入一个新的excel文件中\n",
        "result_df.to_csv(\"result1.csv\", index=False)"
      ],
      "metadata": {
        "id": "G6N44QdZaAk6"
      },
      "execution_count": null,
      "outputs": []
    },
    {
      "cell_type": "code",
      "source": [],
      "metadata": {
        "id": "oVd4EGjOtyBg"
      },
      "execution_count": null,
      "outputs": []
    }
  ]
}