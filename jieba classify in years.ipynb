{
  "cells": [
    {
      "cell_type": "code",
      "execution_count": null,
      "metadata": {
        "colab": {
          "base_uri": "https://localhost:8080/"
        },
        "id": "g_1cVIosw6ak",
        "outputId": "d907a1b2-637e-480b-8d85-639a9a2bccfe"
      },
      "outputs": [
        {
          "name": "stderr",
          "output_type": "stream",
          "text": [
            "Building prefix dict from the default dictionary ...\n",
            "DEBUG:jieba:Building prefix dict from the default dictionary ...\n",
            "Dumping model to file cache /tmp/jieba.cache\n",
            "DEBUG:jieba:Dumping model to file cache /tmp/jieba.cache\n",
            "Loading model cost 0.684 seconds.\n",
            "DEBUG:jieba:Loading model cost 0.684 seconds.\n",
            "Prefix dict has been built successfully.\n",
            "DEBUG:jieba:Prefix dict has been built successfully.\n"
          ]
        }
      ],
      "source": [
        "import jieba\n",
        "jieba.add_word(\"有关部门\", freq=None, tag=None)\n",
        "jieba.add_word(\"结合实际情况\", freq=None, tag=None)\n",
        "dict4={\"可以\",\"允许\",\"积极\",\"支持\",\"推广\",\"切不可\",\"不准\",\"追究\",\"处罚\",\"有关部门\",\"有些\",\"原则上\",\"自主\",\"调整\",\"协商\",\"试点\",\"结合实际情况\"}"
      ]
    },
    {
      "cell_type": "code",
      "source": [
        "import jieba\n",
        "jieba.add_word(\"有关部门\", freq=None, tag=None)\n",
        "jieba.add_word(\"结合实际情况\", freq=None, tag=None)\n",
        "jieba.add_word(\"特殊情况\", freq=None, tag=None)\n",
        "dict1={\"可以\",\"允许\",\"积极\",\"支持\",\"推广\",\"必须\",\"应该\",\"引导\",\"推动\",\"应当\",\"提倡\",\"促进\",\"优化\",\"实施\"\"完善\"}\n",
        "dict2={\"切不可\",\"不准\",\"追究\",\"处罚\",\"不能\",\"不许\",\"不要\",\"不得\",\"禁止\",\"违反\",\"改正\"}\n",
        "dict3={\"有关部门\",\"有些\",\"原则上\",\"自主\",\"调整\",\"协商\",\"试点\",\"结合实际情况\",\"酌情\",\"酌量\",\"适当\",\"一般\",\"按照\",\"必要\",\"需要\",\"结合\",\"实际\",\"批准\",\"特殊情况\"}"
      ],
      "metadata": {
        "colab": {
          "base_uri": "https://localhost:8080/"
        },
        "id": "60RJwCvqJakN",
        "outputId": "0a933dc9-039e-4605-96e4-b7c71f99fd6b"
      },
      "execution_count": null,
      "outputs": [
        {
          "output_type": "stream",
          "name": "stderr",
          "text": [
            "Building prefix dict from the default dictionary ...\n",
            "DEBUG:jieba:Building prefix dict from the default dictionary ...\n",
            "Dumping model to file cache /tmp/jieba.cache\n",
            "DEBUG:jieba:Dumping model to file cache /tmp/jieba.cache\n",
            "Loading model cost 1.469 seconds.\n",
            "DEBUG:jieba:Loading model cost 1.469 seconds.\n",
            "Prefix dict has been built successfully.\n",
            "DEBUG:jieba:Prefix dict has been built successfully.\n"
          ]
        }
      ]
    },
    {
      "cell_type": "code",
      "execution_count": null,
      "metadata": {
        "colab": {
          "base_uri": "https://localhost:8080/"
        },
        "id": "96fZCwlbxHEP",
        "outputId": "173b83c4-24b5-4c1c-d35b-425ce23aceff"
      },
      "outputs": [
        {
          "output_type": "stream",
          "name": "stdout",
          "text": [
            "{'有关部门': 7, '允许': 6, '有些': 3, '积极': 67, '调整': 61, '试点': 9, '可以': 20, '支持': 4, '追究': 1, '不准': 4, '推广': 19, '协商': 1}\n"
          ]
        }
      ],
      "source": [
        "import os\n",
        "your_path = '/content/drive/MyDrive/Dropbox/法律_TXT分项'\n",
        "files = os.listdir(your_path)\n",
        "counts = {}\n",
        "for keyword in dict4:\n",
        "    if os.path.isfile(os.path.join(your_path, file)):\n",
        "        f = open(os.path.join(your_path, file),'r', encoding='utf-8')\n",
        "        txt = f.read()\n",
        "        words = jieba.lcut(txt)     # 使用精确模式对文本进行分词\n",
        "        # counts = {}     # 通过键值对的形式存储词语及其出现的次数  \n",
        "        judge=False\n",
        "        # for year in yd1:\n",
        "        for word in words:\n",
        "            if word==\"1971\":\n",
        "              judge=True\n",
        "              break\n",
        "        if judge==True:\n",
        "          for word in words:\n",
        "            if word==keyword:\n",
        "              if  len(word) == 1:    # 单个词语不计算在内\n",
        "                  continue\n",
        "              else:\n",
        "                  counts[word] = counts.get(word, 0) + 1\n",
        "        # for x in f:\n",
        "        #     if keyword in x:\n",
        "        #         count= count+1\n",
        "        f.close()\n",
        "print(counts)"
      ]
    },
    {
      "cell_type": "code",
      "execution_count": null,
      "metadata": {
        "id": "BkigNtcFxYpS"
      },
      "outputs": [],
      "source": []
    }
  ],
  "metadata": {
    "colab": {
      "provenance": []
    },
    "kernelspec": {
      "display_name": "Python 3",
      "name": "python3"
    },
    "language_info": {
      "name": "python"
    }
  },
  "nbformat": 4,
  "nbformat_minor": 0
}